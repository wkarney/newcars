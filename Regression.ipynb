{
 "cells": [
  {
   "cell_type": "code",
   "execution_count": 1,
   "metadata": {},
   "outputs": [],
   "source": [
    "import pandas as pd\n",
    "import numpy as np\n",
    "import matplotlib.pyplot as plt\n",
    "\n",
    "from sklearn.linear_model import LinearRegression, LassoCV, RidgeCV\n",
    "from sklearn.preprocessing import PolynomialFeatures, PowerTransformer, StandardScaler\n",
    "from sklearn.model_selection import GridSearchCV, KFold, cross_val_score, train_test_split\n",
    "from sklearn.metrics import mean_squared_error\n",
    "from sklearn.pipeline import Pipeline"
   ]
  },
  {
   "cell_type": "code",
   "execution_count": 2,
   "metadata": {},
   "outputs": [],
   "source": [
    "newcars = pd.read_csv('./data/car_data_2015-17.csv')"
   ]
  },
  {
   "cell_type": "code",
   "execution_count": 3,
   "metadata": {},
   "outputs": [
    {
     "name": "stdout",
     "output_type": "stream",
     "text": [
      "<class 'pandas.core.frame.DataFrame'>\n",
      "RangeIndex: 5995 entries, 0 to 5994\n",
      "Data columns (total 16 columns):\n",
      "make             5995 non-null object\n",
      "model            5995 non-null object\n",
      "year             5995 non-null int64\n",
      "fuel             5995 non-null object\n",
      "hp               5995 non-null float64\n",
      "num_cylinders    5987 non-null float64\n",
      "transmission     5995 non-null object\n",
      "driven_wheels    5995 non-null object\n",
      "num_doors        5995 non-null float64\n",
      "category         4671 non-null object\n",
      "size             5995 non-null object\n",
      "style            5995 non-null object\n",
      "mpg_highway      5995 non-null int64\n",
      "mpg_city         5995 non-null int64\n",
      "popularity       5995 non-null int64\n",
      "msrp             5995 non-null int64\n",
      "dtypes: float64(3), int64(5), object(8)\n",
      "memory usage: 749.5+ KB\n"
     ]
    }
   ],
   "source": [
    "newcars.info()"
   ]
  },
  {
   "cell_type": "markdown",
   "metadata": {},
   "source": [
    "### Feature engineering"
   ]
  },
  {
   "cell_type": "code",
   "execution_count": 4,
   "metadata": {},
   "outputs": [],
   "source": [
    "newcars['mpg_avg'] = (newcars['mpg_highway'] + newcars['mpg_city']) / 2"
   ]
  },
  {
   "cell_type": "code",
   "execution_count": 5,
   "metadata": {},
   "outputs": [
    {
     "name": "stdout",
     "output_type": "stream",
     "text": [
      "<class 'pandas.core.frame.DataFrame'>\n",
      "RangeIndex: 5995 entries, 0 to 5994\n",
      "Data columns (total 17 columns):\n",
      "make             5995 non-null object\n",
      "model            5995 non-null object\n",
      "year             5995 non-null int64\n",
      "fuel             5995 non-null object\n",
      "hp               5995 non-null float64\n",
      "num_cylinders    5987 non-null float64\n",
      "transmission     5995 non-null object\n",
      "driven_wheels    5995 non-null object\n",
      "num_doors        5995 non-null float64\n",
      "category         4671 non-null object\n",
      "size             5995 non-null object\n",
      "style            5995 non-null object\n",
      "mpg_highway      5995 non-null int64\n",
      "mpg_city         5995 non-null int64\n",
      "popularity       5995 non-null int64\n",
      "msrp             5995 non-null int64\n",
      "mpg_avg          5995 non-null float64\n",
      "dtypes: float64(4), int64(5), object(8)\n",
      "memory usage: 796.3+ KB\n"
     ]
    }
   ],
   "source": [
    "newcars.info()"
   ]
  },
  {
   "cell_type": "code",
   "execution_count": 6,
   "metadata": {},
   "outputs": [],
   "source": [
    "newcars['num_cylinders'] = newcars['num_cylinders'].astype(object)\n",
    "newcars['num_doors'] = newcars['num_doors'].astype(object)\n",
    "newcars_dummied = pd.get_dummies(newcars, columns=['make','year', 'fuel', 'num_cylinders', 'num_doors', \n",
    "                                                   'transmission','driven_wheels', 'size', 'style'], \n",
    "                                 drop_first=True)"
   ]
  },
  {
   "cell_type": "code",
   "execution_count": 7,
   "metadata": {},
   "outputs": [
    {
     "name": "stdout",
     "output_type": "stream",
     "text": [
      "<class 'pandas.core.frame.DataFrame'>\n",
      "RangeIndex: 5995 entries, 0 to 5994\n",
      "Data columns (total 86 columns):\n",
      "model                                    5995 non-null object\n",
      "hp                                       5995 non-null float64\n",
      "category                                 4671 non-null object\n",
      "mpg_highway                              5995 non-null int64\n",
      "mpg_city                                 5995 non-null int64\n",
      "popularity                               5995 non-null int64\n",
      "msrp                                     5995 non-null int64\n",
      "mpg_avg                                  5995 non-null float64\n",
      "make_Alfa Romeo                          5995 non-null uint8\n",
      "make_Aston Martin                        5995 non-null uint8\n",
      "make_Audi                                5995 non-null uint8\n",
      "make_BMW                                 5995 non-null uint8\n",
      "make_Bentley                             5995 non-null uint8\n",
      "make_Buick                               5995 non-null uint8\n",
      "make_Cadillac                            5995 non-null uint8\n",
      "make_Chevrolet                           5995 non-null uint8\n",
      "make_Chrysler                            5995 non-null uint8\n",
      "make_Dodge                               5995 non-null uint8\n",
      "make_FIAT                                5995 non-null uint8\n",
      "make_Ferrari                             5995 non-null uint8\n",
      "make_Ford                                5995 non-null uint8\n",
      "make_GMC                                 5995 non-null uint8\n",
      "make_Genesis                             5995 non-null uint8\n",
      "make_Honda                               5995 non-null uint8\n",
      "make_Hyundai                             5995 non-null uint8\n",
      "make_Infiniti                            5995 non-null uint8\n",
      "make_Kia                                 5995 non-null uint8\n",
      "make_Lamborghini                         5995 non-null uint8\n",
      "make_Land Rover                          5995 non-null uint8\n",
      "make_Lexus                               5995 non-null uint8\n",
      "make_Lincoln                             5995 non-null uint8\n",
      "make_Lotus                               5995 non-null uint8\n",
      "make_Maserati                            5995 non-null uint8\n",
      "make_Mazda                               5995 non-null uint8\n",
      "make_McLaren                             5995 non-null uint8\n",
      "make_Mercedes-Benz                       5995 non-null uint8\n",
      "make_Mitsubishi                          5995 non-null uint8\n",
      "make_Nissan                              5995 non-null uint8\n",
      "make_Porsche                             5995 non-null uint8\n",
      "make_Rolls-Royce                         5995 non-null uint8\n",
      "make_Scion                               5995 non-null uint8\n",
      "make_Subaru                              5995 non-null uint8\n",
      "make_Tesla                               5995 non-null uint8\n",
      "make_Toyota                              5995 non-null uint8\n",
      "make_Volkswagen                          5995 non-null uint8\n",
      "make_Volvo                               5995 non-null uint8\n",
      "year_2016                                5995 non-null uint8\n",
      "year_2017                                5995 non-null uint8\n",
      "fuel_electric                            5995 non-null uint8\n",
      "fuel_flex-fuel (unleaded/E85)            5995 non-null uint8\n",
      "fuel_flex-fuel (unleaded/natural gas)    5995 non-null uint8\n",
      "fuel_natural gas                         5995 non-null uint8\n",
      "fuel_premium unleaded                    5995 non-null uint8\n",
      "fuel_regular unleaded                    5995 non-null uint8\n",
      "num_cylinders_3.0                        5995 non-null uint8\n",
      "num_cylinders_4.0                        5995 non-null uint8\n",
      "num_cylinders_5.0                        5995 non-null uint8\n",
      "num_cylinders_6.0                        5995 non-null uint8\n",
      "num_cylinders_8.0                        5995 non-null uint8\n",
      "num_cylinders_10.0                       5995 non-null uint8\n",
      "num_cylinders_12.0                       5995 non-null uint8\n",
      "num_doors_3.0                            5995 non-null uint8\n",
      "num_doors_4.0                            5995 non-null uint8\n",
      "transmission_AUTOMATIC                   5995 non-null uint8\n",
      "transmission_DIRECT_DRIVE                5995 non-null uint8\n",
      "transmission_MANUAL                      5995 non-null uint8\n",
      "driven_wheels_four wheel drive           5995 non-null uint8\n",
      "driven_wheels_front wheel drive          5995 non-null uint8\n",
      "driven_wheels_rear wheel drive           5995 non-null uint8\n",
      "size_Large                               5995 non-null uint8\n",
      "size_Midsize                             5995 non-null uint8\n",
      "style_2dr SUV                            5995 non-null uint8\n",
      "style_4dr Hatchback                      5995 non-null uint8\n",
      "style_4dr SUV                            5995 non-null uint8\n",
      "style_Cargo Minivan                      5995 non-null uint8\n",
      "style_Cargo Van                          5995 non-null uint8\n",
      "style_Convertible                        5995 non-null uint8\n",
      "style_Convertible SUV                    5995 non-null uint8\n",
      "style_Coupe                              5995 non-null uint8\n",
      "style_Crew Cab Pickup                    5995 non-null uint8\n",
      "style_Extended Cab Pickup                5995 non-null uint8\n",
      "style_Passenger Minivan                  5995 non-null uint8\n",
      "style_Passenger Van                      5995 non-null uint8\n",
      "style_Regular Cab Pickup                 5995 non-null uint8\n",
      "style_Sedan                              5995 non-null uint8\n",
      "style_Wagon                              5995 non-null uint8\n",
      "dtypes: float64(2), int64(4), object(2), uint8(78)\n",
      "memory usage: 831.4+ KB\n"
     ]
    }
   ],
   "source": [
    "newcars_dummied.info()"
   ]
  },
  {
   "cell_type": "code",
   "execution_count": null,
   "metadata": {},
   "outputs": [],
   "source": []
  },
  {
   "cell_type": "code",
   "execution_count": 8,
   "metadata": {},
   "outputs": [],
   "source": [
    "X = newcars_dummied.drop(columns=['model', 'category','msrp'])\n",
    "y = newcars[['msrp']]\n",
    "\n",
    "X_train, X_test, y_train, y_test = train_test_split(X, y, random_state=7152019)"
   ]
  },
  {
   "cell_type": "code",
   "execution_count": 9,
   "metadata": {},
   "outputs": [
    {
     "data": {
      "text/plain": [
       "LinearRegression(copy_X=True, fit_intercept=True, n_jobs=None,\n",
       "         normalize=False)"
      ]
     },
     "execution_count": 9,
     "metadata": {},
     "output_type": "execute_result"
    }
   ],
   "source": [
    "lr = LinearRegression()\n",
    "lr.fit(X_train, y_train)"
   ]
  },
  {
   "cell_type": "code",
   "execution_count": 10,
   "metadata": {},
   "outputs": [
    {
     "data": {
      "text/plain": [
       "0.8922547169823017"
      ]
     },
     "execution_count": 10,
     "metadata": {},
     "output_type": "execute_result"
    }
   ],
   "source": [
    "cross_val_score(lr, X_train, y_train, cv=3).mean()"
   ]
  },
  {
   "cell_type": "code",
   "execution_count": 11,
   "metadata": {},
   "outputs": [
    {
     "data": {
      "text/plain": [
       "0.8929980925195249"
      ]
     },
     "execution_count": 11,
     "metadata": {},
     "output_type": "execute_result"
    }
   ],
   "source": [
    "cross_val_score(lr, X_test, y_test, cv=3).mean()"
   ]
  },
  {
   "cell_type": "code",
   "execution_count": null,
   "metadata": {},
   "outputs": [],
   "source": []
  }
 ],
 "metadata": {
  "kernelspec": {
   "display_name": "DSI",
   "language": "python",
   "name": "dsi"
  },
  "language_info": {
   "codemirror_mode": {
    "name": "ipython",
    "version": 3
   },
   "file_extension": ".py",
   "mimetype": "text/x-python",
   "name": "python",
   "nbconvert_exporter": "python",
   "pygments_lexer": "ipython3",
   "version": "3.6.8"
  }
 },
 "nbformat": 4,
 "nbformat_minor": 2
}
